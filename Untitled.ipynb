{
 "cells": [
  {
   "cell_type": "code",
   "execution_count": 20,
   "id": "5b8149fe-b0b7-4403-aa7b-79cd623da6ab",
   "metadata": {},
   "outputs": [],
   "source": [
    "from urllib.parse import urlparse, parse_qs"
   ]
  },
  {
   "cell_type": "code",
   "execution_count": 21,
   "id": "87c0ad33-31ff-46ea-b6e0-8c439f0dd721",
   "metadata": {},
   "outputs": [],
   "source": [
    "u = urlparse(\"https://www.youtube.com/watch?v=e7e9rVKCZyI\")"
   ]
  },
  {
   "cell_type": "code",
   "execution_count": 64,
   "id": "f7e9ca7f-44b6-444e-8de5-8ffdf525c312",
   "metadata": {},
   "outputs": [],
   "source": [
    "\n",
    "def get_video_id(url):\n",
    "    parts = urlparse(url)\n",
    "    video_id = None\n",
    "    if parts.netloc in {\"www.youtube.com\", \"youtube.com\"}:\n",
    "        if parts.path == '/watch':\n",
    "            video_id = parse_qs(parts.query)[\"v\"][0]\n",
    "    elif parts.netloc == \"youtu.be\":\n",
    "        video_id = parts.path.lstrip(\"/\")\n",
    "    \n",
    "    print(f'(\"{url}\", \"{video_id}\"),')\n",
    "    return video_id"
   ]
  },
  {
   "cell_type": "code",
   "execution_count": 65,
   "id": "750ce00c-51a1-4730-8bea-364048afefb2",
   "metadata": {},
   "outputs": [
    {
     "data": {
      "text/plain": [
       "ParseResult(scheme='https', netloc='youtu.be', path='/e7e9rVKCZyI', params='', query='', fragment='')"
      ]
     },
     "execution_count": 65,
     "metadata": {},
     "output_type": "execute_result"
    }
   ],
   "source": [
    "urlparse(\"https://youtu.be/e7e9rVKCZyI\")"
   ]
  },
  {
   "cell_type": "code",
   "execution_count": 67,
   "id": "9f6919c2-e6d8-4468-87b4-f5f1439e9cd4",
   "metadata": {},
   "outputs": [
    {
     "name": "stdout",
     "output_type": "stream",
     "text": [
      "(\"google.com\", \"None\"),\n",
      "(\"https://youtu.be/e7e9rVKCZyI\", \"e7e9rVKCZyI\"),\n",
      "(\"https://www.youtube.com/watch?v=e7e9rVKCZyI\", \"e7e9rVKCZyI\"),\n",
      "(\"https://www.youtube.com/watch?v=e7e9rVKCZyI&t=1\", \"e7e9rVKCZyI\"),\n",
      "(\"https://youtu.be/e7e9rVKCZyI?t=1\", \"e7e9rVKCZyI\"),\n",
      "(\"https://www.youtube.com/clip/UgkxW_Pm9YwQpCE0uXzRO1wmuAFZ9UgJk_ir\", \"None\"),\n"
     ]
    }
   ],
   "source": [
    "\n",
    "get_video_id(\"google.com\")\n",
    "get_video_id(\"https://youtu.be/e7e9rVKCZyI\")\n",
    "get_video_id(\"https://www.youtube.com/watch?v=e7e9rVKCZyI\")\n",
    "get_video_id(\"https://www.youtube.com/watch?v=e7e9rVKCZyI&t=1\")\n",
    "get_video_id(\"https://youtu.be/e7e9rVKCZyI?t=1\")\n",
    "get_video_id(\"https://www.youtube.com/clip/UgkxW_Pm9YwQpCE0uXzRO1wmuAFZ9UgJk_ir\")\n"
   ]
  },
  {
   "cell_type": "code",
   "execution_count": 46,
   "id": "e9f23d83-a76d-45d1-80eb-bbd52fbd0b70",
   "metadata": {},
   "outputs": [
    {
     "name": "stdout",
     "output_type": "stream",
     "text": [
      "\"123\", \"00:02:03\"\n",
      "\"1234\", \"00:20:34\"\n",
      "\"12345\", \"03:25:45\"\n",
      "\"13:55\", \"00:13:55\"\n",
      "\"00:13:55\", \"00:13:55\"\n"
     ]
    }
   ],
   "source": [
    "def to_hh_mm_ss(time):\n",
    "    try:\n",
    "        [*possibly_hours, remaining_minutes, remaining_seconds] = [int(part) for part in time.split(':')]\n",
    "        if not possibly_hours:\n",
    "            hours = 0\n",
    "        else:\n",
    "            hours = possibly_hours[0]\n",
    "    except:\n",
    "        seconds = int(time)\n",
    "        minutes = seconds // 60\n",
    "        remaining_seconds = seconds % 60\n",
    "        hours = minutes // 60\n",
    "        remaining_minutes = minutes % 60\n",
    "    print(f'\"{time}\", \"{hours:02}:{remaining_minutes:02}:{remaining_seconds:02}\"')\n",
    "        \n",
    "\n",
    "to_hh_mm_ss('123')\n",
    "to_hh_mm_ss('1234')\n",
    "to_hh_mm_ss('12345')\n",
    "to_hh_mm_ss('13:55')\n",
    "to_hh_mm_ss('00:13:55')\n"
   ]
  },
  {
   "cell_type": "code",
   "execution_count": 69,
   "id": "3376bb44-ea76-45fe-af02-8176d1de760b",
   "metadata": {},
   "outputs": [
    {
     "ename": "ValueError",
     "evalue": "not enough values to unpack (expected at least 2, got 1)",
     "output_type": "error",
     "traceback": [
      "\u001b[0;31m---------------------------------------------------------------------------\u001b[0m",
      "\u001b[0;31mValueError\u001b[0m                                Traceback (most recent call last)",
      "Cell \u001b[0;32mIn [69], line 1\u001b[0m\n\u001b[0;32m----> 1\u001b[0m [\u001b[38;5;241m*\u001b[39mpossibly_hours, remaining_minutes, remaining_seconds] \u001b[38;5;241m=\u001b[39m [\u001b[38;5;28mint\u001b[39m(part) \u001b[38;5;28;01mfor\u001b[39;00m part \u001b[38;5;129;01min\u001b[39;00m \u001b[38;5;124m\"\u001b[39m\u001b[38;5;124m00\u001b[39m\u001b[38;5;124m\"\u001b[39m\u001b[38;5;241m.\u001b[39msplit(\u001b[38;5;124m\"\u001b[39m\u001b[38;5;124m:\u001b[39m\u001b[38;5;124m\"\u001b[39m)]\n",
      "\u001b[0;31mValueError\u001b[0m: not enough values to unpack (expected at least 2, got 1)"
     ]
    }
   ],
   "source": [
    "[*possibly_hours, remaining_minutes, remaining_seconds] = [int(part) for part in \"00\".split(\":\")]"
   ]
  },
  {
   "cell_type": "code",
   "execution_count": null,
   "id": "661b5958-e31e-408c-8781-7c24607d322a",
   "metadata": {},
   "outputs": [],
   "source": []
  }
 ],
 "metadata": {
  "kernelspec": {
   "display_name": "Python 3 (ipykernel)",
   "language": "python",
   "name": "python3"
  },
  "language_info": {
   "codemirror_mode": {
    "name": "ipython",
    "version": 3
   },
   "file_extension": ".py",
   "mimetype": "text/x-python",
   "name": "python",
   "nbconvert_exporter": "python",
   "pygments_lexer": "ipython3",
   "version": "3.8.11"
  }
 },
 "nbformat": 4,
 "nbformat_minor": 5
}
